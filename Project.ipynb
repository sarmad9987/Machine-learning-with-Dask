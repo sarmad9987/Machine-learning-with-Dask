{
 "cells": [
  {
   "cell_type": "markdown",
   "id": "7e20ae67",
   "metadata": {},
   "source": [
    "## Speedup Machine Learning using Dask Dataframe "
   ]
  },
  {
   "attachments": {
    "Screenshot%202022-02-13%20032217.jpg": {
     "image/jpeg": "[encoded data removed]"
    }
   },
   "cell_type": "markdown",
   "id": "a7068aa6",
   "metadata": {},
   "source": [
    "#### Dask is a flexible library for parallel computing in Python. A Dask DataFrame is a large parallel DataFrame composed of many smaller Pandas DataFrames, split along the index. These Pandas DataFrames may live on disk for larger-than-memory computing on a single machine, or on many different machines in a cluster. One Dask DataFrame operation triggers many operations on the constituent Pandas DataFrames.\n",
    "![Screenshot%202022-02-13%20032217.jpg](attachment:Screenshot%202022-02-13%20032217.jpg)"
   ]
  },
  {
   "cell_type": "markdown",
   "id": "f650a15c",
   "metadata": {},
   "source": [
    "**REFERENCES**\n",
    "1. https://docs.dask.org/en/stable/\n",
    "2. https://ml.dask.org/xgboost.html\n",
    "3. https://docs.dask.org/en/stable/dataframe.html\n",
    "4. https://xgboost.readthedocs.io/en/stable/get_started.html"
   ]
  },
  {
   "cell_type": "code",
   "execution_count": 1,
   "id": "cd0ec003",
   "metadata": {},
   "outputs": [
    {
     "data": {
      "text/html": [
       "<table style=\"border: 2px solid white;\">\n",
       "<tr>\n",
       "<td style=\"vertical-align: top; border: 0px solid white\">\n",
       "<h3 style=\"text-align: left;\">Client</h3>\n",
       "<ul style=\"text-align: left; list-style: none; margin: 0; padding: 0;\">\n",
       "  <li><b>Scheduler: </b>tcp://127.0.0.1:51761</li>\n",
       "  <li><b>Dashboard: </b><a href='http://127.0.0.1:8787/status' target='_blank'>http://127.0.0.1:8787/status</a></li>\n",
       "</ul>\n",
       "</td>\n",
       "<td style=\"vertical-align: top; border: 0px solid white\">\n",
       "<h3 style=\"text-align: left;\">Cluster</h3>\n",
       "<ul style=\"text-align: left; list-style:none; margin: 0; padding: 0;\">\n",
       "  <li><b>Workers: </b>4</li>\n",
       "  <li><b>Cores: </b>12</li>\n",
       "  <li><b>Memory: </b>15.85 GiB</li>\n",
       "</ul>\n",
       "</td>\n",
       "</tr>\n",
       "</table>"
      ],
      "text/plain": [
       "<Client: 'tcp://127.0.0.1:51761' processes=4 threads=12, memory=15.85 GiB>"
      ]
     },
     "execution_count": 1,
     "metadata": {},
     "output_type": "execute_result"
    }
   ],
   "source": [
    "import numpy as np\n",
    "import pandas as pd\n",
    "import matplotlib.pyplot as plt\n",
    "import seaborn as sns\n",
    "from dask.distributed import Client\n",
    "from dask_ml.preprocessing import OneHotEncoder\n",
    "import dask.dataframe as dd\n",
    "import dask\n",
    "import time\n",
    "client = Client()\n",
    "client"
   ]
  },
  {
   "cell_type": "markdown",
   "id": "d108943b",
   "metadata": {},
   "source": [
    "### Read Data"
   ]
  },
  {
   "cell_type": "code",
   "execution_count": 2,
   "id": "3347efa9",
   "metadata": {},
   "outputs": [
    {
     "name": "stdout",
     "output_type": "stream",
     "text": [
      "----------------------------------\n",
      " | Dask Time:  0.01996922492980957 seconds |\n",
      "----------------------------------\n"
     ]
    }
   ],
   "source": [
    "start_time = time.time()\n",
    "dd_csv=dd.read_csv('2020_taxi_trips - Copy.csv',assume_missing=True)\n",
    "print(\"----------------------------------\")\n",
    "print(\" | Dask Time:  %s seconds |\" % (time.time() - start_time))\n",
    "print(\"----------------------------------\")"
   ]
  },
  {
   "cell_type": "code",
   "execution_count": 3,
   "id": "75f5ef04",
   "metadata": {},
   "outputs": [
    {
     "name": "stdout",
     "output_type": "stream",
     "text": [
      "----------------------------------\n",
      " | Pandas Time:  0.697197437286377 seconds |\n",
      "----------------------------------\n"
     ]
    }
   ],
   "source": [
    "start_time = time.time()\n",
    "data = pd.read_csv('2020_taxi_trips - Copy.csv')\n",
    "print(\"----------------------------------\")\n",
    "print(\" | Pandas Time:  %s seconds |\" % (time.time() - start_time))\n",
    "print(\"----------------------------------\")"
   ]
  },
  {
   "cell_type": "code",
   "execution_count": 4,
   "id": "c5c98966",
   "metadata": {},
   "outputs": [
    {
     "name": "stdout",
     "output_type": "stream",
     "text": [
      "Wall time: 998 µs\n"
     ]
    },
    {
     "data": {
      "text/html": [
       "<div>\n",
       "<style scoped>\n",
       "    .dataframe tbody tr th:only-of-type {\n",
       "        vertical-align: middle;\n",
       "    }\n",
       "\n",
       "    .dataframe tbody tr th {\n",
       "        vertical-align: top;\n",
       "    }\n",
       "\n",
       "    .dataframe thead th {\n",
       "        text-align: right;\n",
       "    }\n",
       "</style>\n",
       "<table border=\"1\" class=\"dataframe\">\n",
       "  <thead>\n",
       "    <tr style=\"text-align: right;\">\n",
       "      <th></th>\n",
       "      <th>VendorID</th>\n",
       "      <th>RatecodeID</th>\n",
       "      <th>PULocationID</th>\n",
       "      <th>DOLocationID</th>\n",
       "      <th>passenger_count</th>\n",
       "      <th>trip_distance</th>\n",
       "      <th>fare_amount</th>\n",
       "      <th>extra</th>\n",
       "      <th>mta_tax</th>\n",
       "      <th>tip_amount</th>\n",
       "      <th>tolls_amount</th>\n",
       "      <th>improvement_surcharge</th>\n",
       "      <th>total_amount</th>\n",
       "      <th>payment_type</th>\n",
       "      <th>trip_type</th>\n",
       "      <th>congestion_surcharge</th>\n",
       "    </tr>\n",
       "  </thead>\n",
       "  <tbody>\n",
       "    <tr>\n",
       "      <th>0</th>\n",
       "      <td>2.0</td>\n",
       "      <td>1.0</td>\n",
       "      <td>74.0</td>\n",
       "      <td>75.0</td>\n",
       "      <td>1.0</td>\n",
       "      <td>1.47</td>\n",
       "      <td>6.5</td>\n",
       "      <td>0.0</td>\n",
       "      <td>0.5</td>\n",
       "      <td>0.0</td>\n",
       "      <td>0.0</td>\n",
       "      <td>0.3</td>\n",
       "      <td>7.3</td>\n",
       "      <td>2.0</td>\n",
       "      <td>1.0</td>\n",
       "      <td>0.0</td>\n",
       "    </tr>\n",
       "    <tr>\n",
       "      <th>1</th>\n",
       "      <td>2.0</td>\n",
       "      <td>1.0</td>\n",
       "      <td>74.0</td>\n",
       "      <td>75.0</td>\n",
       "      <td>1.0</td>\n",
       "      <td>1.49</td>\n",
       "      <td>6.5</td>\n",
       "      <td>0.0</td>\n",
       "      <td>0.5</td>\n",
       "      <td>0.0</td>\n",
       "      <td>0.0</td>\n",
       "      <td>0.3</td>\n",
       "      <td>7.3</td>\n",
       "      <td>2.0</td>\n",
       "      <td>1.0</td>\n",
       "      <td>0.0</td>\n",
       "    </tr>\n",
       "  </tbody>\n",
       "</table>\n",
       "</div>"
      ],
      "text/plain": [
       "   VendorID  RatecodeID  PULocationID  DOLocationID  passenger_count  \\\n",
       "0       2.0         1.0          74.0          75.0              1.0   \n",
       "1       2.0         1.0          74.0          75.0              1.0   \n",
       "\n",
       "   trip_distance  fare_amount  extra  mta_tax  tip_amount  tolls_amount  \\\n",
       "0           1.47          6.5    0.0      0.5         0.0           0.0   \n",
       "1           1.49          6.5    0.0      0.5         0.0           0.0   \n",
       "\n",
       "   improvement_surcharge  total_amount  payment_type  trip_type  \\\n",
       "0                    0.3           7.3           2.0        1.0   \n",
       "1                    0.3           7.3           2.0        1.0   \n",
       "\n",
       "   congestion_surcharge  \n",
       "0                   0.0  \n",
       "1                   0.0  "
      ]
     },
     "execution_count": 4,
     "metadata": {},
     "output_type": "execute_result"
    }
   ],
   "source": [
    "%time\n",
    "df=dd_csv\n",
    "df.head(2)"
   ]
  },
  {
   "cell_type": "code",
   "execution_count": 5,
   "id": "4b31bc70",
   "metadata": {},
   "outputs": [
    {
     "name": "stdout",
     "output_type": "stream",
     "text": [
      "Wall time: 0 ns\n"
     ]
    },
    {
     "data": {
      "text/html": [
       "<div>\n",
       "<style scoped>\n",
       "    .dataframe tbody tr th:only-of-type {\n",
       "        vertical-align: middle;\n",
       "    }\n",
       "\n",
       "    .dataframe tbody tr th {\n",
       "        vertical-align: top;\n",
       "    }\n",
       "\n",
       "    .dataframe thead th {\n",
       "        text-align: right;\n",
       "    }\n",
       "</style>\n",
       "<table border=\"1\" class=\"dataframe\">\n",
       "  <thead>\n",
       "    <tr style=\"text-align: right;\">\n",
       "      <th></th>\n",
       "      <th>VendorID</th>\n",
       "      <th>RatecodeID</th>\n",
       "      <th>PULocationID</th>\n",
       "      <th>DOLocationID</th>\n",
       "      <th>passenger_count</th>\n",
       "      <th>trip_distance</th>\n",
       "      <th>fare_amount</th>\n",
       "      <th>extra</th>\n",
       "      <th>mta_tax</th>\n",
       "      <th>tip_amount</th>\n",
       "      <th>tolls_amount</th>\n",
       "      <th>improvement_surcharge</th>\n",
       "      <th>total_amount</th>\n",
       "      <th>payment_type</th>\n",
       "      <th>trip_type</th>\n",
       "      <th>congestion_surcharge</th>\n",
       "    </tr>\n",
       "  </thead>\n",
       "  <tbody>\n",
       "    <tr>\n",
       "      <th>0</th>\n",
       "      <td>2.0</td>\n",
       "      <td>1.0</td>\n",
       "      <td>74</td>\n",
       "      <td>75</td>\n",
       "      <td>1.0</td>\n",
       "      <td>1.47</td>\n",
       "      <td>6.5</td>\n",
       "      <td>0.0</td>\n",
       "      <td>0.5</td>\n",
       "      <td>0.0</td>\n",
       "      <td>0</td>\n",
       "      <td>0.3</td>\n",
       "      <td>7.3</td>\n",
       "      <td>2.0</td>\n",
       "      <td>1.0</td>\n",
       "      <td>0.0</td>\n",
       "    </tr>\n",
       "    <tr>\n",
       "      <th>1</th>\n",
       "      <td>2.0</td>\n",
       "      <td>1.0</td>\n",
       "      <td>74</td>\n",
       "      <td>75</td>\n",
       "      <td>1.0</td>\n",
       "      <td>1.49</td>\n",
       "      <td>6.5</td>\n",
       "      <td>0.0</td>\n",
       "      <td>0.5</td>\n",
       "      <td>0.0</td>\n",
       "      <td>0</td>\n",
       "      <td>0.3</td>\n",
       "      <td>7.3</td>\n",
       "      <td>2.0</td>\n",
       "      <td>1.0</td>\n",
       "      <td>0.0</td>\n",
       "    </tr>\n",
       "  </tbody>\n",
       "</table>\n",
       "</div>"
      ],
      "text/plain": [
       "   VendorID  RatecodeID  PULocationID  DOLocationID  passenger_count  \\\n",
       "0       2.0         1.0            74            75              1.0   \n",
       "1       2.0         1.0            74            75              1.0   \n",
       "\n",
       "   trip_distance  fare_amount  extra  mta_tax  tip_amount  tolls_amount  \\\n",
       "0           1.47          6.5    0.0      0.5         0.0             0   \n",
       "1           1.49          6.5    0.0      0.5         0.0             0   \n",
       "\n",
       "   improvement_surcharge  total_amount  payment_type  trip_type  \\\n",
       "0                    0.3           7.3           2.0        1.0   \n",
       "1                    0.3           7.3           2.0        1.0   \n",
       "\n",
       "   congestion_surcharge  \n",
       "0                   0.0  \n",
       "1                   0.0  "
      ]
     },
     "execution_count": 5,
     "metadata": {},
     "output_type": "execute_result"
    }
   ],
   "source": [
    "%time\n",
    "df1 = data\n",
    "df1.head(2)"
   ]
  },
  {
   "cell_type": "markdown",
   "id": "1e47eff2",
   "metadata": {},
   "source": [
    "## EDA"
   ]
  },
  {
   "cell_type": "code",
   "execution_count": 6,
   "id": "83cb3cdd",
   "metadata": {},
   "outputs": [
    {
     "data": {
      "text/html": [
       "<div>\n",
       "<style scoped>\n",
       "    .dataframe tbody tr th:only-of-type {\n",
       "        vertical-align: middle;\n",
       "    }\n",
       "\n",
       "    .dataframe tbody tr th {\n",
       "        vertical-align: top;\n",
       "    }\n",
       "\n",
       "    .dataframe thead th {\n",
       "        text-align: right;\n",
       "    }\n",
       "</style>\n",
       "<table border=\"1\" class=\"dataframe\">\n",
       "  <thead>\n",
       "    <tr style=\"text-align: right;\">\n",
       "      <th></th>\n",
       "      <th>VendorID</th>\n",
       "      <th>RatecodeID</th>\n",
       "      <th>PULocationID</th>\n",
       "      <th>DOLocationID</th>\n",
       "      <th>passenger_count</th>\n",
       "      <th>trip_distance</th>\n",
       "      <th>fare_amount</th>\n",
       "      <th>extra</th>\n",
       "      <th>mta_tax</th>\n",
       "      <th>tip_amount</th>\n",
       "      <th>tolls_amount</th>\n",
       "      <th>improvement_surcharge</th>\n",
       "      <th>total_amount</th>\n",
       "      <th>payment_type</th>\n",
       "      <th>trip_type</th>\n",
       "      <th>congestion_surcharge</th>\n",
       "    </tr>\n",
       "  </thead>\n",
       "  <tbody>\n",
       "    <tr>\n",
       "      <th>0</th>\n",
       "      <td>2.0</td>\n",
       "      <td>1.0</td>\n",
       "      <td>74.0</td>\n",
       "      <td>75.0</td>\n",
       "      <td>1.0</td>\n",
       "      <td>1.47</td>\n",
       "      <td>6.5</td>\n",
       "      <td>0.0</td>\n",
       "      <td>0.5</td>\n",
       "      <td>0.00</td>\n",
       "      <td>0.0</td>\n",
       "      <td>0.3</td>\n",
       "      <td>7.30</td>\n",
       "      <td>2.0</td>\n",
       "      <td>1.0</td>\n",
       "      <td>0.00</td>\n",
       "    </tr>\n",
       "    <tr>\n",
       "      <th>1</th>\n",
       "      <td>2.0</td>\n",
       "      <td>1.0</td>\n",
       "      <td>74.0</td>\n",
       "      <td>75.0</td>\n",
       "      <td>1.0</td>\n",
       "      <td>1.49</td>\n",
       "      <td>6.5</td>\n",
       "      <td>0.0</td>\n",
       "      <td>0.5</td>\n",
       "      <td>0.00</td>\n",
       "      <td>0.0</td>\n",
       "      <td>0.3</td>\n",
       "      <td>7.30</td>\n",
       "      <td>2.0</td>\n",
       "      <td>1.0</td>\n",
       "      <td>0.00</td>\n",
       "    </tr>\n",
       "    <tr>\n",
       "      <th>2</th>\n",
       "      <td>2.0</td>\n",
       "      <td>1.0</td>\n",
       "      <td>74.0</td>\n",
       "      <td>75.0</td>\n",
       "      <td>1.0</td>\n",
       "      <td>1.31</td>\n",
       "      <td>6.5</td>\n",
       "      <td>0.0</td>\n",
       "      <td>0.5</td>\n",
       "      <td>0.00</td>\n",
       "      <td>0.0</td>\n",
       "      <td>0.3</td>\n",
       "      <td>7.30</td>\n",
       "      <td>2.0</td>\n",
       "      <td>1.0</td>\n",
       "      <td>0.00</td>\n",
       "    </tr>\n",
       "    <tr>\n",
       "      <th>3</th>\n",
       "      <td>2.0</td>\n",
       "      <td>1.0</td>\n",
       "      <td>74.0</td>\n",
       "      <td>75.0</td>\n",
       "      <td>1.0</td>\n",
       "      <td>1.43</td>\n",
       "      <td>6.5</td>\n",
       "      <td>0.0</td>\n",
       "      <td>0.5</td>\n",
       "      <td>0.00</td>\n",
       "      <td>0.0</td>\n",
       "      <td>0.3</td>\n",
       "      <td>7.30</td>\n",
       "      <td>2.0</td>\n",
       "      <td>1.0</td>\n",
       "      <td>0.00</td>\n",
       "    </tr>\n",
       "    <tr>\n",
       "      <th>4</th>\n",
       "      <td>2.0</td>\n",
       "      <td>1.0</td>\n",
       "      <td>74.0</td>\n",
       "      <td>75.0</td>\n",
       "      <td>1.0</td>\n",
       "      <td>1.10</td>\n",
       "      <td>6.5</td>\n",
       "      <td>0.0</td>\n",
       "      <td>0.5</td>\n",
       "      <td>0.00</td>\n",
       "      <td>0.0</td>\n",
       "      <td>0.3</td>\n",
       "      <td>7.30</td>\n",
       "      <td>2.0</td>\n",
       "      <td>1.0</td>\n",
       "      <td>0.00</td>\n",
       "    </tr>\n",
       "    <tr>\n",
       "      <th>...</th>\n",
       "      <td>...</td>\n",
       "      <td>...</td>\n",
       "      <td>...</td>\n",
       "      <td>...</td>\n",
       "      <td>...</td>\n",
       "      <td>...</td>\n",
       "      <td>...</td>\n",
       "      <td>...</td>\n",
       "      <td>...</td>\n",
       "      <td>...</td>\n",
       "      <td>...</td>\n",
       "      <td>...</td>\n",
       "      <td>...</td>\n",
       "      <td>...</td>\n",
       "      <td>...</td>\n",
       "      <td>...</td>\n",
       "    </tr>\n",
       "    <tr>\n",
       "      <th>1048570</th>\n",
       "      <td>2.0</td>\n",
       "      <td>1.0</td>\n",
       "      <td>166.0</td>\n",
       "      <td>181.0</td>\n",
       "      <td>1.0</td>\n",
       "      <td>10.51</td>\n",
       "      <td>40.0</td>\n",
       "      <td>0.5</td>\n",
       "      <td>0.5</td>\n",
       "      <td>8.81</td>\n",
       "      <td>0.0</td>\n",
       "      <td>0.3</td>\n",
       "      <td>52.86</td>\n",
       "      <td>1.0</td>\n",
       "      <td>1.0</td>\n",
       "      <td>2.75</td>\n",
       "    </tr>\n",
       "    <tr>\n",
       "      <th>1048571</th>\n",
       "      <td>2.0</td>\n",
       "      <td>1.0</td>\n",
       "      <td>166.0</td>\n",
       "      <td>186.0</td>\n",
       "      <td>1.0</td>\n",
       "      <td>5.07</td>\n",
       "      <td>19.0</td>\n",
       "      <td>0.5</td>\n",
       "      <td>0.5</td>\n",
       "      <td>4.61</td>\n",
       "      <td>0.0</td>\n",
       "      <td>0.3</td>\n",
       "      <td>27.66</td>\n",
       "      <td>1.0</td>\n",
       "      <td>1.0</td>\n",
       "      <td>2.75</td>\n",
       "    </tr>\n",
       "    <tr>\n",
       "      <th>1048572</th>\n",
       "      <td>2.0</td>\n",
       "      <td>1.0</td>\n",
       "      <td>166.0</td>\n",
       "      <td>79.0</td>\n",
       "      <td>1.0</td>\n",
       "      <td>7.32</td>\n",
       "      <td>24.5</td>\n",
       "      <td>0.5</td>\n",
       "      <td>0.5</td>\n",
       "      <td>2.50</td>\n",
       "      <td>0.0</td>\n",
       "      <td>0.3</td>\n",
       "      <td>31.05</td>\n",
       "      <td>1.0</td>\n",
       "      <td>1.0</td>\n",
       "      <td>2.75</td>\n",
       "    </tr>\n",
       "    <tr>\n",
       "      <th>1048573</th>\n",
       "      <td>2.0</td>\n",
       "      <td>1.0</td>\n",
       "      <td>166.0</td>\n",
       "      <td>141.0</td>\n",
       "      <td>1.0</td>\n",
       "      <td>3.72</td>\n",
       "      <td>13.5</td>\n",
       "      <td>0.5</td>\n",
       "      <td>0.5</td>\n",
       "      <td>3.51</td>\n",
       "      <td>0.0</td>\n",
       "      <td>0.3</td>\n",
       "      <td>21.06</td>\n",
       "      <td>1.0</td>\n",
       "      <td>1.0</td>\n",
       "      <td>2.75</td>\n",
       "    </tr>\n",
       "    <tr>\n",
       "      <th>1048574</th>\n",
       "      <td>2.0</td>\n",
       "      <td>1.0</td>\n",
       "      <td>166.0</td>\n",
       "      <td>237.0</td>\n",
       "      <td>1.0</td>\n",
       "      <td>3.68</td>\n",
       "      <td>15.0</td>\n",
       "      <td>0.5</td>\n",
       "      <td>0.5</td>\n",
       "      <td>3.81</td>\n",
       "      <td>0.0</td>\n",
       "      <td>0.3</td>\n",
       "      <td>22.86</td>\n",
       "      <td>1.0</td>\n",
       "      <td>1.0</td>\n",
       "      <td>2.75</td>\n",
       "    </tr>\n",
       "  </tbody>\n",
       "</table>\n",
       "<p>1048575 rows × 16 columns</p>\n",
       "</div>"
      ],
      "text/plain": [
       "         VendorID  RatecodeID  PULocationID  DOLocationID  passenger_count  \\\n",
       "0             2.0         1.0          74.0          75.0              1.0   \n",
       "1             2.0         1.0          74.0          75.0              1.0   \n",
       "2             2.0         1.0          74.0          75.0              1.0   \n",
       "3             2.0         1.0          74.0          75.0              1.0   \n",
       "4             2.0         1.0          74.0          75.0              1.0   \n",
       "...           ...         ...           ...           ...              ...   \n",
       "1048570       2.0         1.0         166.0         181.0              1.0   \n",
       "1048571       2.0         1.0         166.0         186.0              1.0   \n",
       "1048572       2.0         1.0         166.0          79.0              1.0   \n",
       "1048573       2.0         1.0         166.0         141.0              1.0   \n",
       "1048574       2.0         1.0         166.0         237.0              1.0   \n",
       "\n",
       "         trip_distance  fare_amount  extra  mta_tax  tip_amount  tolls_amount  \\\n",
       "0                 1.47          6.5    0.0      0.5        0.00           0.0   \n",
       "1                 1.49          6.5    0.0      0.5        0.00           0.0   \n",
       "2                 1.31          6.5    0.0      0.5        0.00           0.0   \n",
       "3                 1.43          6.5    0.0      0.5        0.00           0.0   \n",
       "4                 1.10          6.5    0.0      0.5        0.00           0.0   \n",
       "...                ...          ...    ...      ...         ...           ...   \n",
       "1048570          10.51         40.0    0.5      0.5        8.81           0.0   \n",
       "1048571           5.07         19.0    0.5      0.5        4.61           0.0   \n",
       "1048572           7.32         24.5    0.5      0.5        2.50           0.0   \n",
       "1048573           3.72         13.5    0.5      0.5        3.51           0.0   \n",
       "1048574           3.68         15.0    0.5      0.5        3.81           0.0   \n",
       "\n",
       "         improvement_surcharge  total_amount  payment_type  trip_type  \\\n",
       "0                          0.3          7.30           2.0        1.0   \n",
       "1                          0.3          7.30           2.0        1.0   \n",
       "2                          0.3          7.30           2.0        1.0   \n",
       "3                          0.3          7.30           2.0        1.0   \n",
       "4                          0.3          7.30           2.0        1.0   \n",
       "...                        ...           ...           ...        ...   \n",
       "1048570                    0.3         52.86           1.0        1.0   \n",
       "1048571                    0.3         27.66           1.0        1.0   \n",
       "1048572                    0.3         31.05           1.0        1.0   \n",
       "1048573                    0.3         21.06           1.0        1.0   \n",
       "1048574                    0.3         22.86           1.0        1.0   \n",
       "\n",
       "         congestion_surcharge  \n",
       "0                        0.00  \n",
       "1                        0.00  \n",
       "2                        0.00  \n",
       "3                        0.00  \n",
       "4                        0.00  \n",
       "...                       ...  \n",
       "1048570                  2.75  \n",
       "1048571                  2.75  \n",
       "1048572                  2.75  \n",
       "1048573                  2.75  \n",
       "1048574                  2.75  \n",
       "\n",
       "[1048575 rows x 16 columns]"
      ]
     },
     "execution_count": 6,
     "metadata": {},
     "output_type": "execute_result"
    }
   ],
   "source": [
    "#Dask dataframe\n",
    "df.compute()"
   ]
  },
  {
   "cell_type": "code",
   "execution_count": 7,
   "id": "d9a95d03",
   "metadata": {},
   "outputs": [
    {
     "data": {
      "text/plain": [
       "(1048575, 16)"
      ]
     },
     "execution_count": 7,
     "metadata": {},
     "output_type": "execute_result"
    }
   ],
   "source": [
    "#Pandas Dataframe\n",
    "df1.shape"
   ]
  },
  {
   "cell_type": "markdown",
   "id": "3c4be1e1",
   "metadata": {},
   "source": [
    "#### There are total 1048575 rows and 16 columns in both Datasets"
   ]
  },
  {
   "cell_type": "code",
   "execution_count": 8,
   "id": "a348d521",
   "metadata": {},
   "outputs": [
    {
     "data": {
      "text/html": [
       "<div>\n",
       "<style scoped>\n",
       "    .dataframe tbody tr th:only-of-type {\n",
       "        vertical-align: middle;\n",
       "    }\n",
       "\n",
       "    .dataframe tbody tr th {\n",
       "        vertical-align: top;\n",
       "    }\n",
       "\n",
       "    .dataframe thead th {\n",
       "        text-align: right;\n",
       "    }\n",
       "</style>\n",
       "<table border=\"1\" class=\"dataframe\">\n",
       "  <thead>\n",
       "    <tr style=\"text-align: right;\">\n",
       "      <th></th>\n",
       "      <th>VendorID</th>\n",
       "      <th>RatecodeID</th>\n",
       "      <th>PULocationID</th>\n",
       "      <th>DOLocationID</th>\n",
       "      <th>passenger_count</th>\n",
       "      <th>trip_distance</th>\n",
       "      <th>fare_amount</th>\n",
       "      <th>extra</th>\n",
       "      <th>mta_tax</th>\n",
       "      <th>tip_amount</th>\n",
       "      <th>tolls_amount</th>\n",
       "      <th>improvement_surcharge</th>\n",
       "      <th>total_amount</th>\n",
       "      <th>payment_type</th>\n",
       "      <th>trip_type</th>\n",
       "      <th>congestion_surcharge</th>\n",
       "    </tr>\n",
       "  </thead>\n",
       "  <tbody>\n",
       "    <tr>\n",
       "      <th>count</th>\n",
       "      <td>815482.000000</td>\n",
       "      <td>815482.000000</td>\n",
       "      <td>1.048575e+06</td>\n",
       "      <td>1.048575e+06</td>\n",
       "      <td>815482.000000</td>\n",
       "      <td>1.048575e+06</td>\n",
       "      <td>1.048575e+06</td>\n",
       "      <td>1.048575e+06</td>\n",
       "      <td>1.048575e+06</td>\n",
       "      <td>1.048575e+06</td>\n",
       "      <td>1048575.0</td>\n",
       "      <td>1.048575e+06</td>\n",
       "      <td>1.048575e+06</td>\n",
       "      <td>815482.000000</td>\n",
       "      <td>815478.000000</td>\n",
       "      <td>815482.000000</td>\n",
       "    </tr>\n",
       "    <tr>\n",
       "      <th>mean</th>\n",
       "      <td>1.799116</td>\n",
       "      <td>1.121824</td>\n",
       "      <td>1.058664e+02</td>\n",
       "      <td>1.262041e+02</td>\n",
       "      <td>1.321799</td>\n",
       "      <td>5.232639e+00</td>\n",
       "      <td>1.442554e+01</td>\n",
       "      <td>7.763946e-01</td>\n",
       "      <td>3.904208e-01</td>\n",
       "      <td>4.367562e-01</td>\n",
       "      <td>0.0</td>\n",
       "      <td>2.899481e-01</td>\n",
       "      <td>1.658424e+01</td>\n",
       "      <td>1.671317</td>\n",
       "      <td>1.027952</td>\n",
       "      <td>0.419597</td>\n",
       "    </tr>\n",
       "    <tr>\n",
       "      <th>std</th>\n",
       "      <td>0.400661</td>\n",
       "      <td>0.737862</td>\n",
       "      <td>6.979947e+01</td>\n",
       "      <td>7.623252e+01</td>\n",
       "      <td>0.993347</td>\n",
       "      <td>4.416213e+02</td>\n",
       "      <td>1.164878e+01</td>\n",
       "      <td>1.060924e+00</td>\n",
       "      <td>2.115034e-01</td>\n",
       "      <td>1.634329e+00</td>\n",
       "      <td>0.0</td>\n",
       "      <td>6.017557e-02</td>\n",
       "      <td>1.223139e+01</td>\n",
       "      <td>0.505624</td>\n",
       "      <td>0.164835</td>\n",
       "      <td>0.988741</td>\n",
       "    </tr>\n",
       "    <tr>\n",
       "      <th>min</th>\n",
       "      <td>1.000000</td>\n",
       "      <td>1.000000</td>\n",
       "      <td>1.000000e+00</td>\n",
       "      <td>1.000000e+00</td>\n",
       "      <td>0.000000</td>\n",
       "      <td>-2.425000e+01</td>\n",
       "      <td>-2.100000e+02</td>\n",
       "      <td>-4.500000e+00</td>\n",
       "      <td>-5.000000e-01</td>\n",
       "      <td>-3.000000e+00</td>\n",
       "      <td>0.0</td>\n",
       "      <td>-3.000000e-01</td>\n",
       "      <td>-2.103000e+02</td>\n",
       "      <td>1.000000</td>\n",
       "      <td>1.000000</td>\n",
       "      <td>-2.750000</td>\n",
       "    </tr>\n",
       "    <tr>\n",
       "      <th>25%</th>\n",
       "      <td>2.000000</td>\n",
       "      <td>1.000000</td>\n",
       "      <td>4.900000e+01</td>\n",
       "      <td>6.100000e+01</td>\n",
       "      <td>1.000000</td>\n",
       "      <td>1.000000e+00</td>\n",
       "      <td>7.000000e+00</td>\n",
       "      <td>0.000000e+00</td>\n",
       "      <td>5.000000e-01</td>\n",
       "      <td>0.000000e+00</td>\n",
       "      <td>0.0</td>\n",
       "      <td>3.000000e-01</td>\n",
       "      <td>8.300000e+00</td>\n",
       "      <td>1.000000</td>\n",
       "      <td>1.000000</td>\n",
       "      <td>0.000000</td>\n",
       "    </tr>\n",
       "    <tr>\n",
       "      <th>50%</th>\n",
       "      <td>2.000000</td>\n",
       "      <td>1.000000</td>\n",
       "      <td>7.600000e+01</td>\n",
       "      <td>1.190000e+02</td>\n",
       "      <td>1.000000</td>\n",
       "      <td>1.900000e+00</td>\n",
       "      <td>1.100000e+01</td>\n",
       "      <td>5.000000e-01</td>\n",
       "      <td>5.000000e-01</td>\n",
       "      <td>0.000000e+00</td>\n",
       "      <td>0.0</td>\n",
       "      <td>3.000000e-01</td>\n",
       "      <td>1.280000e+01</td>\n",
       "      <td>2.000000</td>\n",
       "      <td>1.000000</td>\n",
       "      <td>0.000000</td>\n",
       "    </tr>\n",
       "    <tr>\n",
       "      <th>75%</th>\n",
       "      <td>2.000000</td>\n",
       "      <td>1.000000</td>\n",
       "      <td>1.590000e+02</td>\n",
       "      <td>1.890000e+02</td>\n",
       "      <td>1.000000</td>\n",
       "      <td>3.860000e+00</td>\n",
       "      <td>1.900000e+01</td>\n",
       "      <td>1.000000e+00</td>\n",
       "      <td>5.000000e-01</td>\n",
       "      <td>0.000000e+00</td>\n",
       "      <td>0.0</td>\n",
       "      <td>3.000000e-01</td>\n",
       "      <td>2.174000e+01</td>\n",
       "      <td>2.000000</td>\n",
       "      <td>1.000000</td>\n",
       "      <td>0.000000</td>\n",
       "    </tr>\n",
       "    <tr>\n",
       "      <th>max</th>\n",
       "      <td>2.000000</td>\n",
       "      <td>99.000000</td>\n",
       "      <td>2.650000e+02</td>\n",
       "      <td>2.650000e+02</td>\n",
       "      <td>9.000000</td>\n",
       "      <td>1.599072e+05</td>\n",
       "      <td>8.030000e+02</td>\n",
       "      <td>1.426000e+01</td>\n",
       "      <td>3.550000e+00</td>\n",
       "      <td>6.412000e+02</td>\n",
       "      <td>0.0</td>\n",
       "      <td>3.000000e-01</td>\n",
       "      <td>8.038000e+02</td>\n",
       "      <td>5.000000</td>\n",
       "      <td>2.000000</td>\n",
       "      <td>2.750000</td>\n",
       "    </tr>\n",
       "  </tbody>\n",
       "</table>\n",
       "</div>"
      ],
      "text/plain": [
       "            VendorID     RatecodeID  PULocationID  DOLocationID  \\\n",
       "count  815482.000000  815482.000000  1.048575e+06  1.048575e+06   \n",
       "mean        1.799116       1.121824  1.058664e+02  1.262041e+02   \n",
       "std         0.400661       0.737862  6.979947e+01  7.623252e+01   \n",
       "min         1.000000       1.000000  1.000000e+00  1.000000e+00   \n",
       "25%         2.000000       1.000000  4.900000e+01  6.100000e+01   \n",
       "50%         2.000000       1.000000  7.600000e+01  1.190000e+02   \n",
       "75%         2.000000       1.000000  1.590000e+02  1.890000e+02   \n",
       "max         2.000000      99.000000  2.650000e+02  2.650000e+02   \n",
       "\n",
       "       passenger_count  trip_distance   fare_amount         extra  \\\n",
       "count    815482.000000   1.048575e+06  1.048575e+06  1.048575e+06   \n",
       "mean          1.321799   5.232639e+00  1.442554e+01  7.763946e-01   \n",
       "std           0.993347   4.416213e+02  1.164878e+01  1.060924e+00   \n",
       "min           0.000000  -2.425000e+01 -2.100000e+02 -4.500000e+00   \n",
       "25%           1.000000   1.000000e+00  7.000000e+00  0.000000e+00   \n",
       "50%           1.000000   1.900000e+00  1.100000e+01  5.000000e-01   \n",
       "75%           1.000000   3.860000e+00  1.900000e+01  1.000000e+00   \n",
       "max           9.000000   1.599072e+05  8.030000e+02  1.426000e+01   \n",
       "\n",
       "            mta_tax    tip_amount  tolls_amount  improvement_surcharge  \\\n",
       "count  1.048575e+06  1.048575e+06     1048575.0           1.048575e+06   \n",
       "mean   3.904208e-01  4.367562e-01           0.0           2.899481e-01   \n",
       "std    2.115034e-01  1.634329e+00           0.0           6.017557e-02   \n",
       "min   -5.000000e-01 -3.000000e+00           0.0          -3.000000e-01   \n",
       "25%    5.000000e-01  0.000000e+00           0.0           3.000000e-01   \n",
       "50%    5.000000e-01  0.000000e+00           0.0           3.000000e-01   \n",
       "75%    5.000000e-01  0.000000e+00           0.0           3.000000e-01   \n",
       "max    3.550000e+00  6.412000e+02           0.0           3.000000e-01   \n",
       "\n",
       "       total_amount   payment_type      trip_type  congestion_surcharge  \n",
       "count  1.048575e+06  815482.000000  815478.000000         815482.000000  \n",
       "mean   1.658424e+01       1.671317       1.027952              0.419597  \n",
       "std    1.223139e+01       0.505624       0.164835              0.988741  \n",
       "min   -2.103000e+02       1.000000       1.000000             -2.750000  \n",
       "25%    8.300000e+00       1.000000       1.000000              0.000000  \n",
       "50%    1.280000e+01       2.000000       1.000000              0.000000  \n",
       "75%    2.174000e+01       2.000000       1.000000              0.000000  \n",
       "max    8.038000e+02       5.000000       2.000000              2.750000  "
      ]
     },
     "execution_count": 8,
     "metadata": {},
     "output_type": "execute_result"
    }
   ],
   "source": [
    "df.describe().compute()"
   ]
  },
  {
   "cell_type": "code",
   "execution_count": 9,
   "id": "43ec6db5",
   "metadata": {},
   "outputs": [
    {
     "data": {
      "text/html": [
       "<div>\n",
       "<style scoped>\n",
       "    .dataframe tbody tr th:only-of-type {\n",
       "        vertical-align: middle;\n",
       "    }\n",
       "\n",
       "    .dataframe tbody tr th {\n",
       "        vertical-align: top;\n",
       "    }\n",
       "\n",
       "    .dataframe thead th {\n",
       "        text-align: right;\n",
       "    }\n",
       "</style>\n",
       "<table border=\"1\" class=\"dataframe\">\n",
       "  <thead>\n",
       "    <tr style=\"text-align: right;\">\n",
       "      <th></th>\n",
       "      <th>VendorID</th>\n",
       "      <th>RatecodeID</th>\n",
       "      <th>PULocationID</th>\n",
       "      <th>DOLocationID</th>\n",
       "      <th>passenger_count</th>\n",
       "      <th>trip_distance</th>\n",
       "      <th>fare_amount</th>\n",
       "      <th>extra</th>\n",
       "      <th>mta_tax</th>\n",
       "      <th>tip_amount</th>\n",
       "      <th>tolls_amount</th>\n",
       "      <th>improvement_surcharge</th>\n",
       "      <th>total_amount</th>\n",
       "      <th>payment_type</th>\n",
       "      <th>trip_type</th>\n",
       "      <th>congestion_surcharge</th>\n",
       "    </tr>\n",
       "  </thead>\n",
       "  <tbody>\n",
       "    <tr>\n",
       "      <th>count</th>\n",
       "      <td>815482.000000</td>\n",
       "      <td>815482.000000</td>\n",
       "      <td>1.048575e+06</td>\n",
       "      <td>1.048575e+06</td>\n",
       "      <td>815482.000000</td>\n",
       "      <td>1.048575e+06</td>\n",
       "      <td>1.048575e+06</td>\n",
       "      <td>1.048575e+06</td>\n",
       "      <td>1.048575e+06</td>\n",
       "      <td>1.048575e+06</td>\n",
       "      <td>1048575.0</td>\n",
       "      <td>1.048575e+06</td>\n",
       "      <td>1.048575e+06</td>\n",
       "      <td>815482.000000</td>\n",
       "      <td>815478.000000</td>\n",
       "      <td>815482.000000</td>\n",
       "    </tr>\n",
       "    <tr>\n",
       "      <th>mean</th>\n",
       "      <td>1.799116</td>\n",
       "      <td>1.121824</td>\n",
       "      <td>1.058664e+02</td>\n",
       "      <td>1.262041e+02</td>\n",
       "      <td>1.321799</td>\n",
       "      <td>5.232639e+00</td>\n",
       "      <td>1.442554e+01</td>\n",
       "      <td>7.763946e-01</td>\n",
       "      <td>3.904208e-01</td>\n",
       "      <td>4.367562e-01</td>\n",
       "      <td>0.0</td>\n",
       "      <td>2.899481e-01</td>\n",
       "      <td>1.658424e+01</td>\n",
       "      <td>1.671317</td>\n",
       "      <td>1.027952</td>\n",
       "      <td>0.419597</td>\n",
       "    </tr>\n",
       "    <tr>\n",
       "      <th>std</th>\n",
       "      <td>0.400661</td>\n",
       "      <td>0.737862</td>\n",
       "      <td>6.979947e+01</td>\n",
       "      <td>7.623252e+01</td>\n",
       "      <td>0.993347</td>\n",
       "      <td>4.416213e+02</td>\n",
       "      <td>1.164878e+01</td>\n",
       "      <td>1.060924e+00</td>\n",
       "      <td>2.115034e-01</td>\n",
       "      <td>1.634329e+00</td>\n",
       "      <td>0.0</td>\n",
       "      <td>6.017557e-02</td>\n",
       "      <td>1.223139e+01</td>\n",
       "      <td>0.505624</td>\n",
       "      <td>0.164835</td>\n",
       "      <td>0.988741</td>\n",
       "    </tr>\n",
       "    <tr>\n",
       "      <th>min</th>\n",
       "      <td>1.000000</td>\n",
       "      <td>1.000000</td>\n",
       "      <td>1.000000e+00</td>\n",
       "      <td>1.000000e+00</td>\n",
       "      <td>0.000000</td>\n",
       "      <td>-2.425000e+01</td>\n",
       "      <td>-2.100000e+02</td>\n",
       "      <td>-4.500000e+00</td>\n",
       "      <td>-5.000000e-01</td>\n",
       "      <td>-3.000000e+00</td>\n",
       "      <td>0.0</td>\n",
       "      <td>-3.000000e-01</td>\n",
       "      <td>-2.103000e+02</td>\n",
       "      <td>1.000000</td>\n",
       "      <td>1.000000</td>\n",
       "      <td>-2.750000</td>\n",
       "    </tr>\n",
       "    <tr>\n",
       "      <th>25%</th>\n",
       "      <td>2.000000</td>\n",
       "      <td>1.000000</td>\n",
       "      <td>4.900000e+01</td>\n",
       "      <td>6.100000e+01</td>\n",
       "      <td>1.000000</td>\n",
       "      <td>1.000000e+00</td>\n",
       "      <td>7.000000e+00</td>\n",
       "      <td>0.000000e+00</td>\n",
       "      <td>5.000000e-01</td>\n",
       "      <td>0.000000e+00</td>\n",
       "      <td>0.0</td>\n",
       "      <td>3.000000e-01</td>\n",
       "      <td>8.300000e+00</td>\n",
       "      <td>1.000000</td>\n",
       "      <td>1.000000</td>\n",
       "      <td>0.000000</td>\n",
       "    </tr>\n",
       "    <tr>\n",
       "      <th>50%</th>\n",
       "      <td>2.000000</td>\n",
       "      <td>1.000000</td>\n",
       "      <td>7.600000e+01</td>\n",
       "      <td>1.190000e+02</td>\n",
       "      <td>1.000000</td>\n",
       "      <td>1.900000e+00</td>\n",
       "      <td>1.100000e+01</td>\n",
       "      <td>5.000000e-01</td>\n",
       "      <td>5.000000e-01</td>\n",
       "      <td>0.000000e+00</td>\n",
       "      <td>0.0</td>\n",
       "      <td>3.000000e-01</td>\n",
       "      <td>1.280000e+01</td>\n",
       "      <td>2.000000</td>\n",
       "      <td>1.000000</td>\n",
       "      <td>0.000000</td>\n",
       "    </tr>\n",
       "    <tr>\n",
       "      <th>75%</th>\n",
       "      <td>2.000000</td>\n",
       "      <td>1.000000</td>\n",
       "      <td>1.590000e+02</td>\n",
       "      <td>1.890000e+02</td>\n",
       "      <td>1.000000</td>\n",
       "      <td>3.860000e+00</td>\n",
       "      <td>1.900000e+01</td>\n",
       "      <td>1.000000e+00</td>\n",
       "      <td>5.000000e-01</td>\n",
       "      <td>0.000000e+00</td>\n",
       "      <td>0.0</td>\n",
       "      <td>3.000000e-01</td>\n",
       "      <td>2.174000e+01</td>\n",
       "      <td>2.000000</td>\n",
       "      <td>1.000000</td>\n",
       "      <td>0.000000</td>\n",
       "    </tr>\n",
       "    <tr>\n",
       "      <th>max</th>\n",
       "      <td>2.000000</td>\n",
       "      <td>99.000000</td>\n",
       "      <td>2.650000e+02</td>\n",
       "      <td>2.650000e+02</td>\n",
       "      <td>9.000000</td>\n",
       "      <td>1.599072e+05</td>\n",
       "      <td>8.030000e+02</td>\n",
       "      <td>1.426000e+01</td>\n",
       "      <td>3.550000e+00</td>\n",
       "      <td>6.412000e+02</td>\n",
       "      <td>0.0</td>\n",
       "      <td>3.000000e-01</td>\n",
       "      <td>8.038000e+02</td>\n",
       "      <td>5.000000</td>\n",
       "      <td>2.000000</td>\n",
       "      <td>2.750000</td>\n",
       "    </tr>\n",
       "  </tbody>\n",
       "</table>\n",
       "</div>"
      ],
      "text/plain": [
       "            VendorID     RatecodeID  PULocationID  DOLocationID  \\\n",
       "count  815482.000000  815482.000000  1.048575e+06  1.048575e+06   \n",
       "mean        1.799116       1.121824  1.058664e+02  1.262041e+02   \n",
       "std         0.400661       0.737862  6.979947e+01  7.623252e+01   \n",
       "min         1.000000       1.000000  1.000000e+00  1.000000e+00   \n",
       "25%         2.000000       1.000000  4.900000e+01  6.100000e+01   \n",
       "50%         2.000000       1.000000  7.600000e+01  1.190000e+02   \n",
       "75%         2.000000       1.000000  1.590000e+02  1.890000e+02   \n",
       "max         2.000000      99.000000  2.650000e+02  2.650000e+02   \n",
       "\n",
       "       passenger_count  trip_distance   fare_amount         extra  \\\n",
       "count    815482.000000   1.048575e+06  1.048575e+06  1.048575e+06   \n",
       "mean          1.321799   5.232639e+00  1.442554e+01  7.763946e-01   \n",
       "std           0.993347   4.416213e+02  1.164878e+01  1.060924e+00   \n",
       "min           0.000000  -2.425000e+01 -2.100000e+02 -4.500000e+00   \n",
       "25%           1.000000   1.000000e+00  7.000000e+00  0.000000e+00   \n",
       "50%           1.000000   1.900000e+00  1.100000e+01  5.000000e-01   \n",
       "75%           1.000000   3.860000e+00  1.900000e+01  1.000000e+00   \n",
       "max           9.000000   1.599072e+05  8.030000e+02  1.426000e+01   \n",
       "\n",
       "            mta_tax    tip_amount  tolls_amount  improvement_surcharge  \\\n",
       "count  1.048575e+06  1.048575e+06     1048575.0           1.048575e+06   \n",
       "mean   3.904208e-01  4.367562e-01           0.0           2.899481e-01   \n",
       "std    2.115034e-01  1.634329e+00           0.0           6.017557e-02   \n",
       "min   -5.000000e-01 -3.000000e+00           0.0          -3.000000e-01   \n",
       "25%    5.000000e-01  0.000000e+00           0.0           3.000000e-01   \n",
       "50%    5.000000e-01  0.000000e+00           0.0           3.000000e-01   \n",
       "75%    5.000000e-01  0.000000e+00           0.0           3.000000e-01   \n",
       "max    3.550000e+00  6.412000e+02           0.0           3.000000e-01   \n",
       "\n",
       "       total_amount   payment_type      trip_type  congestion_surcharge  \n",
       "count  1.048575e+06  815482.000000  815478.000000         815482.000000  \n",
       "mean   1.658424e+01       1.671317       1.027952              0.419597  \n",
       "std    1.223139e+01       0.505624       0.164835              0.988741  \n",
       "min   -2.103000e+02       1.000000       1.000000             -2.750000  \n",
       "25%    8.300000e+00       1.000000       1.000000              0.000000  \n",
       "50%    1.280000e+01       2.000000       1.000000              0.000000  \n",
       "75%    2.174000e+01       2.000000       1.000000              0.000000  \n",
       "max    8.038000e+02       5.000000       2.000000              2.750000  "
      ]
     },
     "execution_count": 9,
     "metadata": {},
     "output_type": "execute_result"
    }
   ],
   "source": [
    "df1.describe()"
   ]
  },
  {
   "cell_type": "markdown",
   "id": "49cac5db",
   "metadata": {},
   "source": [
    "#### Both data sets have means at 2.00 and std at 0.400661"
   ]
  },
  {
   "cell_type": "markdown",
   "id": "1dc6450f",
   "metadata": {},
   "source": [
    "##### Removing missing data"
   ]
  },
  {
   "cell_type": "code",
   "execution_count": 10,
   "id": "8d95d6f2",
   "metadata": {},
   "outputs": [
    {
     "name": "stdout",
     "output_type": "stream",
     "text": [
      "Wall time: 0 ns\n"
     ]
    },
    {
     "data": {
      "text/plain": [
       "VendorID                 233093\n",
       "RatecodeID               233093\n",
       "PULocationID                  0\n",
       "DOLocationID                  0\n",
       "passenger_count          233093\n",
       "trip_distance                 0\n",
       "fare_amount                   0\n",
       "extra                         0\n",
       "mta_tax                       0\n",
       "tip_amount                    0\n",
       "tolls_amount                  0\n",
       "improvement_surcharge         0\n",
       "total_amount                  0\n",
       "payment_type             233093\n",
       "trip_type                233097\n",
       "congestion_surcharge     233093\n",
       "dtype: int64"
      ]
     },
     "execution_count": 10,
     "metadata": {},
     "output_type": "execute_result"
    }
   ],
   "source": [
    "%time\n",
    "df1.isnull().sum()"
   ]
  },
  {
   "cell_type": "code",
   "execution_count": 11,
   "id": "e264d3ff",
   "metadata": {},
   "outputs": [
    {
     "name": "stdout",
     "output_type": "stream",
     "text": [
      "Wall time: 0 ns\n"
     ]
    },
    {
     "data": {
      "text/plain": [
       "VendorID                 233093\n",
       "RatecodeID               233093\n",
       "PULocationID                  0\n",
       "DOLocationID                  0\n",
       "passenger_count          233093\n",
       "trip_distance                 0\n",
       "fare_amount                   0\n",
       "extra                         0\n",
       "mta_tax                       0\n",
       "tip_amount                    0\n",
       "tolls_amount                  0\n",
       "improvement_surcharge         0\n",
       "total_amount                  0\n",
       "payment_type             233093\n",
       "trip_type                233097\n",
       "congestion_surcharge     233093\n",
       "dtype: int64"
      ]
     },
     "execution_count": 11,
     "metadata": {},
     "output_type": "execute_result"
    }
   ],
   "source": [
    "%time\n",
    "df.isnull().compute().sum()"
   ]
  },
  {
   "cell_type": "code",
   "execution_count": 12,
   "id": "a45ddb2a",
   "metadata": {},
   "outputs": [
    {
     "name": "stdout",
     "output_type": "stream",
     "text": [
      "Wall time: 0 ns\n"
     ]
    },
    {
     "data": {
      "text/plain": [
       "VendorID                 0\n",
       "RatecodeID               0\n",
       "PULocationID             0\n",
       "DOLocationID             0\n",
       "passenger_count          0\n",
       "trip_distance            0\n",
       "fare_amount              0\n",
       "extra                    0\n",
       "mta_tax                  0\n",
       "tip_amount               0\n",
       "tolls_amount             0\n",
       "improvement_surcharge    0\n",
       "total_amount             0\n",
       "payment_type             0\n",
       "trip_type                0\n",
       "congestion_surcharge     0\n",
       "dtype: int64"
      ]
     },
     "execution_count": 12,
     "metadata": {},
     "output_type": "execute_result"
    }
   ],
   "source": [
    "%time\n",
    "df1=df1.fillna(0)\n",
    "df1.isnull().sum()"
   ]
  },
  {
   "cell_type": "code",
   "execution_count": 13,
   "id": "ddc2649a",
   "metadata": {},
   "outputs": [
    {
     "name": "stdout",
     "output_type": "stream",
     "text": [
      "Wall time: 0 ns\n"
     ]
    },
    {
     "data": {
      "text/plain": [
       "VendorID                 0\n",
       "RatecodeID               0\n",
       "PULocationID             0\n",
       "DOLocationID             0\n",
       "passenger_count          0\n",
       "trip_distance            0\n",
       "fare_amount              0\n",
       "extra                    0\n",
       "mta_tax                  0\n",
       "tip_amount               0\n",
       "tolls_amount             0\n",
       "improvement_surcharge    0\n",
       "total_amount             0\n",
       "payment_type             0\n",
       "trip_type                0\n",
       "congestion_surcharge     0\n",
       "dtype: int64"
      ]
     },
     "execution_count": 13,
     "metadata": {},
     "output_type": "execute_result"
    }
   ],
   "source": [
    "%time\n",
    "df=df.fillna(0)\n",
    "df.isnull().sum().compute()"
   ]
  },
  {
   "cell_type": "markdown",
   "id": "5a436672",
   "metadata": {},
   "source": [
    "### Correlation "
   ]
  },
  {
   "cell_type": "code",
   "execution_count": 14,
   "id": "c552312b",
   "metadata": {},
   "outputs": [
    {
     "data": {
      "image/png": "[encoded data removed]",
      "text/plain": [
       "<Figure size 720x576 with 2 Axes>"
      ]
     },
     "metadata": {
      "needs_background": "light"
     },
     "output_type": "display_data"
    }
   ],
   "source": [
    "plt.figure(figsize=(10, 8))\n",
    "sns.heatmap(data.drop('fare_amount', axis=1).corr(),cmap='coolwarm',vmin=0, vmax=1,square=True)\n",
    "plt.show();"
   ]
  },
  {
   "cell_type": "markdown",
   "id": "6f301df6",
   "metadata": {},
   "source": [
    "### Feature Scaling"
   ]
  },
  {
   "cell_type": "code",
   "execution_count": 15,
   "id": "99d026b0",
   "metadata": {},
   "outputs": [],
   "source": [
    "from dask_ml.preprocessing import RobustScaler"
   ]
  },
  {
   "cell_type": "code",
   "execution_count": 16,
   "id": "ac87d01e",
   "metadata": {},
   "outputs": [
    {
     "name": "stdout",
     "output_type": "stream",
     "text": [
      "Wall time: 0 ns\n"
     ]
    }
   ],
   "source": [
    "#Feature scaling for DASK dataframe\n",
    "%time\n",
    "transformer = RobustScaler().fit(df)\n",
    "df=transformer.transform(df)"
   ]
  },
  {
   "cell_type": "code",
   "execution_count": 17,
   "id": "3754d885",
   "metadata": {},
   "outputs": [],
   "source": [
    "from sklearn.preprocessing import RobustScaler"
   ]
  },
  {
   "cell_type": "code",
   "execution_count": 18,
   "id": "02fab955",
   "metadata": {},
   "outputs": [
    {
     "name": "stdout",
     "output_type": "stream",
     "text": [
      "Wall time: 0 ns\n"
     ]
    }
   ],
   "source": [
    "#Feature scaling pandas dataframe\n",
    "%time\n",
    "transformer1= RobustScaler().fit(df1)\n",
    "df1= transformer1.transform(df1)"
   ]
  },
  {
   "cell_type": "code",
   "execution_count": 22,
   "id": "8342471f",
   "metadata": {},
   "outputs": [
    {
     "data": {
      "text/html": [
       "<div>\n",
       "<style scoped>\n",
       "    .dataframe tbody tr th:only-of-type {\n",
       "        vertical-align: middle;\n",
       "    }\n",
       "\n",
       "    .dataframe tbody tr th {\n",
       "        vertical-align: top;\n",
       "    }\n",
       "\n",
       "    .dataframe thead th {\n",
       "        text-align: right;\n",
       "    }\n",
       "</style>\n",
       "<table border=\"1\" class=\"dataframe\">\n",
       "  <thead>\n",
       "    <tr style=\"text-align: right;\">\n",
       "      <th></th>\n",
       "      <th>VendorID</th>\n",
       "      <th>RatecodeID</th>\n",
       "      <th>PULocationID</th>\n",
       "      <th>DOLocationID</th>\n",
       "      <th>passenger_count</th>\n",
       "      <th>trip_distance</th>\n",
       "      <th>fare_amount</th>\n",
       "      <th>extra</th>\n",
       "      <th>mta_tax</th>\n",
       "      <th>tip_amount</th>\n",
       "      <th>tolls_amount</th>\n",
       "      <th>improvement_surcharge</th>\n",
       "      <th>total_amount</th>\n",
       "      <th>payment_type</th>\n",
       "      <th>trip_type</th>\n",
       "      <th>congestion_surcharge</th>\n",
       "    </tr>\n",
       "  </thead>\n",
       "  <tbody>\n",
       "    <tr>\n",
       "      <th>0</th>\n",
       "      <td>0.0</td>\n",
       "      <td>0.0</td>\n",
       "      <td>-0.018182</td>\n",
       "      <td>-0.343750</td>\n",
       "      <td>0.0</td>\n",
       "      <td>-0.150350</td>\n",
       "      <td>-0.375000</td>\n",
       "      <td>-0.5</td>\n",
       "      <td>0.0</td>\n",
       "      <td>0.00</td>\n",
       "      <td>0.0</td>\n",
       "      <td>0.0</td>\n",
       "      <td>-0.409226</td>\n",
       "      <td>0.0</td>\n",
       "      <td>0.0</td>\n",
       "      <td>0.00</td>\n",
       "    </tr>\n",
       "    <tr>\n",
       "      <th>1</th>\n",
       "      <td>0.0</td>\n",
       "      <td>0.0</td>\n",
       "      <td>-0.018182</td>\n",
       "      <td>-0.343750</td>\n",
       "      <td>0.0</td>\n",
       "      <td>-0.143357</td>\n",
       "      <td>-0.375000</td>\n",
       "      <td>-0.5</td>\n",
       "      <td>0.0</td>\n",
       "      <td>0.00</td>\n",
       "      <td>0.0</td>\n",
       "      <td>0.0</td>\n",
       "      <td>-0.409226</td>\n",
       "      <td>0.0</td>\n",
       "      <td>0.0</td>\n",
       "      <td>0.00</td>\n",
       "    </tr>\n",
       "    <tr>\n",
       "      <th>2</th>\n",
       "      <td>0.0</td>\n",
       "      <td>0.0</td>\n",
       "      <td>-0.018182</td>\n",
       "      <td>-0.343750</td>\n",
       "      <td>0.0</td>\n",
       "      <td>-0.206294</td>\n",
       "      <td>-0.375000</td>\n",
       "      <td>-0.5</td>\n",
       "      <td>0.0</td>\n",
       "      <td>0.00</td>\n",
       "      <td>0.0</td>\n",
       "      <td>0.0</td>\n",
       "      <td>-0.409226</td>\n",
       "      <td>0.0</td>\n",
       "      <td>0.0</td>\n",
       "      <td>0.00</td>\n",
       "    </tr>\n",
       "    <tr>\n",
       "      <th>3</th>\n",
       "      <td>0.0</td>\n",
       "      <td>0.0</td>\n",
       "      <td>-0.018182</td>\n",
       "      <td>-0.343750</td>\n",
       "      <td>0.0</td>\n",
       "      <td>-0.164336</td>\n",
       "      <td>-0.375000</td>\n",
       "      <td>-0.5</td>\n",
       "      <td>0.0</td>\n",
       "      <td>0.00</td>\n",
       "      <td>0.0</td>\n",
       "      <td>0.0</td>\n",
       "      <td>-0.409226</td>\n",
       "      <td>0.0</td>\n",
       "      <td>0.0</td>\n",
       "      <td>0.00</td>\n",
       "    </tr>\n",
       "    <tr>\n",
       "      <th>4</th>\n",
       "      <td>0.0</td>\n",
       "      <td>0.0</td>\n",
       "      <td>-0.018182</td>\n",
       "      <td>-0.343750</td>\n",
       "      <td>0.0</td>\n",
       "      <td>-0.279720</td>\n",
       "      <td>-0.375000</td>\n",
       "      <td>-0.5</td>\n",
       "      <td>0.0</td>\n",
       "      <td>0.00</td>\n",
       "      <td>0.0</td>\n",
       "      <td>0.0</td>\n",
       "      <td>-0.409226</td>\n",
       "      <td>0.0</td>\n",
       "      <td>0.0</td>\n",
       "      <td>0.00</td>\n",
       "    </tr>\n",
       "    <tr>\n",
       "      <th>...</th>\n",
       "      <td>...</td>\n",
       "      <td>...</td>\n",
       "      <td>...</td>\n",
       "      <td>...</td>\n",
       "      <td>...</td>\n",
       "      <td>...</td>\n",
       "      <td>...</td>\n",
       "      <td>...</td>\n",
       "      <td>...</td>\n",
       "      <td>...</td>\n",
       "      <td>...</td>\n",
       "      <td>...</td>\n",
       "      <td>...</td>\n",
       "      <td>...</td>\n",
       "      <td>...</td>\n",
       "      <td>...</td>\n",
       "    </tr>\n",
       "    <tr>\n",
       "      <th>1048570</th>\n",
       "      <td>0.0</td>\n",
       "      <td>0.0</td>\n",
       "      <td>0.818182</td>\n",
       "      <td>0.484375</td>\n",
       "      <td>0.0</td>\n",
       "      <td>3.010490</td>\n",
       "      <td>2.416667</td>\n",
       "      <td>0.0</td>\n",
       "      <td>0.0</td>\n",
       "      <td>8.81</td>\n",
       "      <td>0.0</td>\n",
       "      <td>0.0</td>\n",
       "      <td>2.980655</td>\n",
       "      <td>-1.0</td>\n",
       "      <td>0.0</td>\n",
       "      <td>2.75</td>\n",
       "    </tr>\n",
       "    <tr>\n",
       "      <th>1048571</th>\n",
       "      <td>0.0</td>\n",
       "      <td>0.0</td>\n",
       "      <td>0.818182</td>\n",
       "      <td>0.523438</td>\n",
       "      <td>0.0</td>\n",
       "      <td>1.108392</td>\n",
       "      <td>0.666667</td>\n",
       "      <td>0.0</td>\n",
       "      <td>0.0</td>\n",
       "      <td>4.61</td>\n",
       "      <td>0.0</td>\n",
       "      <td>0.0</td>\n",
       "      <td>1.105655</td>\n",
       "      <td>-1.0</td>\n",
       "      <td>0.0</td>\n",
       "      <td>2.75</td>\n",
       "    </tr>\n",
       "    <tr>\n",
       "      <th>1048572</th>\n",
       "      <td>0.0</td>\n",
       "      <td>0.0</td>\n",
       "      <td>0.818182</td>\n",
       "      <td>-0.312500</td>\n",
       "      <td>0.0</td>\n",
       "      <td>1.895105</td>\n",
       "      <td>1.125000</td>\n",
       "      <td>0.0</td>\n",
       "      <td>0.0</td>\n",
       "      <td>2.50</td>\n",
       "      <td>0.0</td>\n",
       "      <td>0.0</td>\n",
       "      <td>1.357887</td>\n",
       "      <td>-1.0</td>\n",
       "      <td>0.0</td>\n",
       "      <td>2.75</td>\n",
       "    </tr>\n",
       "    <tr>\n",
       "      <th>1048573</th>\n",
       "      <td>0.0</td>\n",
       "      <td>0.0</td>\n",
       "      <td>0.818182</td>\n",
       "      <td>0.171875</td>\n",
       "      <td>0.0</td>\n",
       "      <td>0.636364</td>\n",
       "      <td>0.208333</td>\n",
       "      <td>0.0</td>\n",
       "      <td>0.0</td>\n",
       "      <td>3.51</td>\n",
       "      <td>0.0</td>\n",
       "      <td>0.0</td>\n",
       "      <td>0.614583</td>\n",
       "      <td>-1.0</td>\n",
       "      <td>0.0</td>\n",
       "      <td>2.75</td>\n",
       "    </tr>\n",
       "    <tr>\n",
       "      <th>1048574</th>\n",
       "      <td>0.0</td>\n",
       "      <td>0.0</td>\n",
       "      <td>0.818182</td>\n",
       "      <td>0.921875</td>\n",
       "      <td>0.0</td>\n",
       "      <td>0.622378</td>\n",
       "      <td>0.333333</td>\n",
       "      <td>0.0</td>\n",
       "      <td>0.0</td>\n",
       "      <td>3.81</td>\n",
       "      <td>0.0</td>\n",
       "      <td>0.0</td>\n",
       "      <td>0.748512</td>\n",
       "      <td>-1.0</td>\n",
       "      <td>0.0</td>\n",
       "      <td>2.75</td>\n",
       "    </tr>\n",
       "  </tbody>\n",
       "</table>\n",
       "<p>1048575 rows × 16 columns</p>\n",
       "</div>"
      ],
      "text/plain": [
       "         VendorID  RatecodeID  PULocationID  DOLocationID  passenger_count  \\\n",
       "0             0.0         0.0     -0.018182     -0.343750              0.0   \n",
       "1             0.0         0.0     -0.018182     -0.343750              0.0   \n",
       "2             0.0         0.0     -0.018182     -0.343750              0.0   \n",
       "3             0.0         0.0     -0.018182     -0.343750              0.0   \n",
       "4             0.0         0.0     -0.018182     -0.343750              0.0   \n",
       "...           ...         ...           ...           ...              ...   \n",
       "1048570       0.0         0.0      0.818182      0.484375              0.0   \n",
       "1048571       0.0         0.0      0.818182      0.523438              0.0   \n",
       "1048572       0.0         0.0      0.818182     -0.312500              0.0   \n",
       "1048573       0.0         0.0      0.818182      0.171875              0.0   \n",
       "1048574       0.0         0.0      0.818182      0.921875              0.0   \n",
       "\n",
       "         trip_distance  fare_amount  extra  mta_tax  tip_amount  tolls_amount  \\\n",
       "0            -0.150350    -0.375000   -0.5      0.0        0.00           0.0   \n",
       "1            -0.143357    -0.375000   -0.5      0.0        0.00           0.0   \n",
       "2            -0.206294    -0.375000   -0.5      0.0        0.00           0.0   \n",
       "3            -0.164336    -0.375000   -0.5      0.0        0.00           0.0   \n",
       "4            -0.279720    -0.375000   -0.5      0.0        0.00           0.0   \n",
       "...                ...          ...    ...      ...         ...           ...   \n",
       "1048570       3.010490     2.416667    0.0      0.0        8.81           0.0   \n",
       "1048571       1.108392     0.666667    0.0      0.0        4.61           0.0   \n",
       "1048572       1.895105     1.125000    0.0      0.0        2.50           0.0   \n",
       "1048573       0.636364     0.208333    0.0      0.0        3.51           0.0   \n",
       "1048574       0.622378     0.333333    0.0      0.0        3.81           0.0   \n",
       "\n",
       "         improvement_surcharge  total_amount  payment_type  trip_type  \\\n",
       "0                          0.0     -0.409226           0.0        0.0   \n",
       "1                          0.0     -0.409226           0.0        0.0   \n",
       "2                          0.0     -0.409226           0.0        0.0   \n",
       "3                          0.0     -0.409226           0.0        0.0   \n",
       "4                          0.0     -0.409226           0.0        0.0   \n",
       "...                        ...           ...           ...        ...   \n",
       "1048570                    0.0      2.980655          -1.0        0.0   \n",
       "1048571                    0.0      1.105655          -1.0        0.0   \n",
       "1048572                    0.0      1.357887          -1.0        0.0   \n",
       "1048573                    0.0      0.614583          -1.0        0.0   \n",
       "1048574                    0.0      0.748512          -1.0        0.0   \n",
       "\n",
       "         congestion_surcharge  \n",
       "0                        0.00  \n",
       "1                        0.00  \n",
       "2                        0.00  \n",
       "3                        0.00  \n",
       "4                        0.00  \n",
       "...                       ...  \n",
       "1048570                  2.75  \n",
       "1048571                  2.75  \n",
       "1048572                  2.75  \n",
       "1048573                  2.75  \n",
       "1048574                  2.75  \n",
       "\n",
       "[1048575 rows x 16 columns]"
      ]
     },
     "execution_count": 22,
     "metadata": {},
     "output_type": "execute_result"
    }
   ],
   "source": [
    "#Convert numpy array after feature scaling to pandas dataframe\n",
    "df2= pd.DataFrame(df1, columns = ['VendorID','RatecodeID','PULocationID','DOLocationID','passenger_count','trip_distance','fare_amount','extra','mta_tax','tip_amount','tolls_amount','improvement_surcharge','total_amount','payment_type','trip_type','congestion_surcharge'])\n",
    "df2"
   ]
  },
  {
   "cell_type": "markdown",
   "id": "5b950aa2",
   "metadata": {},
   "source": [
    "## Machine Learning"
   ]
  },
  {
   "cell_type": "markdown",
   "id": "07c043b6",
   "metadata": {},
   "source": [
    "#### Dependent and independent variables"
   ]
  },
  {
   "cell_type": "code",
   "execution_count": 23,
   "id": "ff56c3dc",
   "metadata": {},
   "outputs": [],
   "source": [
    "# Dask Dataframe dependent and independent variables\n",
    "X= df.drop(['VendorID','RatecodeID'],axis=1)\n",
    "y= df[('total_amount')]"
   ]
  },
  {
   "cell_type": "code",
   "execution_count": 24,
   "id": "b6753486",
   "metadata": {},
   "outputs": [],
   "source": [
    "# pandas Dataframe dependent and independent variables\n",
    "X1 = df2.drop(['VendorID','RatecodeID'], axis=1)\n",
    "Y1 = df2['total_amount']"
   ]
  },
  {
   "cell_type": "code",
   "execution_count": 25,
   "id": "632d23e0",
   "metadata": {},
   "outputs": [],
   "source": [
    "from dask_ml.model_selection import train_test_split"
   ]
  },
  {
   "cell_type": "markdown",
   "id": "95a4846f",
   "metadata": {},
   "source": [
    "#### Split the data into training and testing set and set the random state to 100"
   ]
  },
  {
   "cell_type": "code",
   "execution_count": 26,
   "id": "f5c9fe42",
   "metadata": {},
   "outputs": [
    {
     "name": "stdout",
     "output_type": "stream",
     "text": [
      "Wall time: 0 ns\n",
      "(Delayed('int-06b236a2-707a-4a2d-8f23-6ccedaa608bc'), 14) (dd.Scalar<size-ag..., dtype=int32>,)\n",
      "(Delayed('int-f97b0602-7e6f-4b98-918b-84bde1c9e866'), 14) (dd.Scalar<size-ag..., dtype=int32>,)\n"
     ]
    },
    {
     "name": "stderr",
     "output_type": "stream",
     "text": [
      "C:\\Anaconda\\lib\\site-packages\\dask_ml\\model_selection\\_split.py:462: FutureWarning: The default value for 'shuffle' must be specified when splitting DataFrames. In the future DataFrames will automatically be shuffled within blocks prior to splitting. Specify 'shuffle=True' to adopt the future behavior now, or 'shuffle=False' to retain the previous behavior.\n",
      "  warnings.warn(\n"
     ]
    }
   ],
   "source": [
    "# Dask data split intro training and testing sets\n",
    "%time\n",
    "xtrain, xtest, ytrain, ytest = train_test_split(X, y,train_size=0.7,  test_size=0.3,random_state=100)\n",
    "print(xtrain.shape, ytrain.shape)\n",
    "print(xtest.shape, ytest.shape)"
   ]
  },
  {
   "cell_type": "code",
   "execution_count": 27,
   "id": "949cf609",
   "metadata": {},
   "outputs": [],
   "source": [
    "from sklearn.model_selection import train_test_split"
   ]
  },
  {
   "cell_type": "code",
   "execution_count": 28,
   "id": "79909e64",
   "metadata": {},
   "outputs": [
    {
     "name": "stdout",
     "output_type": "stream",
     "text": [
      "Wall time: 0 ns\n",
      "(734002, 14) (734002,)\n",
      "(314573, 14) (314573,)\n"
     ]
    }
   ],
   "source": [
    "# Pandas data split intro training and testing data sets\n",
    "%time\n",
    "xtrain1, xtest1, ytrain1, ytest1 = train_test_split(X1, Y1, test_size=0.3,random_state=100)\n",
    "print(xtrain1.shape, ytrain1.shape)\n",
    "print(xtest1.shape, ytest1.shape)"
   ]
  },
  {
   "cell_type": "code",
   "execution_count": 29,
   "id": "3beceb49",
   "metadata": {},
   "outputs": [],
   "source": [
    "import xgboost\n",
    "import dask_xgboost"
   ]
  },
  {
   "cell_type": "markdown",
   "id": "d4a375b3",
   "metadata": {},
   "source": [
    "### Training time using DASK dataframe dd vs. Pandas dataframe pd "
   ]
  },
  {
   "cell_type": "code",
   "execution_count": 30,
   "id": "34f5211c",
   "metadata": {},
   "outputs": [
    {
     "name": "stdout",
     "output_type": "stream",
     "text": [
      "----------------------------------\n",
      " | Dask training time:  76.51860690116882 seconds |\n",
      "----------------------------------\n"
     ]
    }
   ],
   "source": [
    "start_time = time.time()\n",
    "\n",
    "params = {'objective':'reg:squarederror','nround': 1000, \n",
    "          'max_depth': 16, 'eta': 0.01, 'subsample': 0.5, \n",
    "          'min_child_weight': 1}\n",
    "bst = dask_xgboost.train(client, params, xtrain, ytrain, num_boost_round=100)\n",
    "bst\n",
    "print(\"----------------------------------\")\n",
    "print(\" | Dask training time:  %s seconds |\" % (time.time() - start_time))\n",
    "print(\"----------------------------------\")"
   ]
  },
  {
   "cell_type": "code",
   "execution_count": 31,
   "id": "cd3b4707",
   "metadata": {},
   "outputs": [],
   "source": [
    "import xgboost as xgb"
   ]
  },
  {
   "cell_type": "code",
   "execution_count": 32,
   "id": "3049d4c3",
   "metadata": {},
   "outputs": [],
   "source": [
    "params1 = {'objective':'reg:squarederror','n_estimators':1000, \n",
    "          'max_depth': 16, 'eta': 0.01, 'subsample': 0.5, \n",
    "          'min_child_weight': 1}\n",
    "reg_xgb = xgb.XGBRegressor(**params1,seed=25,nthread=1,random_state=100)"
   ]
  },
  {
   "cell_type": "code",
   "execution_count": 33,
   "id": "edd5e848",
   "metadata": {},
   "outputs": [
    {
     "name": "stdout",
     "output_type": "stream",
     "text": [
      "----------------------------------\n",
      " | Pandas training time:  1279.772429227829 seconds |\n",
      "----------------------------------\n"
     ]
    }
   ],
   "source": [
    "start_time = time.time()\n",
    "reg_xgb.fit(xtrain1, ytrain1)\n",
    "print(\"----------------------------------\")\n",
    "print(\" | Pandas training time:  %s seconds |\" % (time.time() - start_time))\n",
    "print(\"----------------------------------\")"
   ]
  },
  {
   "cell_type": "markdown",
   "id": "203e4ad3",
   "metadata": {},
   "source": [
    "## Prediction"
   ]
  },
  {
   "cell_type": "code",
   "execution_count": 34,
   "id": "40e1a193",
   "metadata": {},
   "outputs": [
    {
     "name": "stdout",
     "output_type": "stream",
     "text": [
      "Wall time: 0 ns\n"
     ]
    },
    {
     "data": {
      "text/plain": [
       "array([-0.07581281, -0.07581281, -0.07581281, ...,  0.8778246 ,\n",
       "        1.9313626 ,  0.6678274 ], dtype=float32)"
      ]
     },
     "execution_count": 34,
     "metadata": {},
     "output_type": "execute_result"
    }
   ],
   "source": [
    "# Dask Dataframe prediction\n",
    "%time\n",
    "y_hat = dask_xgboost.predict(client, bst, xtest).persist()\n",
    "y_hat.compute()"
   ]
  },
  {
   "cell_type": "code",
   "execution_count": 35,
   "id": "a3c3ad83",
   "metadata": {},
   "outputs": [
    {
     "name": "stdout",
     "output_type": "stream",
     "text": [
      "Wall time: 0 ns\n"
     ]
    },
    {
     "data": {
      "text/plain": [
       "array([ 0.27902764, -0.29758498, -0.5207888 , ..., -0.2603835 ,\n",
       "        1.0602419 ,  0.11162405], dtype=float32)"
      ]
     },
     "execution_count": 35,
     "metadata": {},
     "output_type": "execute_result"
    }
   ],
   "source": [
    "# Pandas Dataframe prediction\n",
    "%time\n",
    "xgb_pred = reg_xgb.predict(xtest1)\n",
    "xgb_pred"
   ]
  },
  {
   "cell_type": "markdown",
   "id": "404f791b",
   "metadata": {},
   "source": [
    "#### Feature importance "
   ]
  },
  {
   "cell_type": "code",
   "execution_count": 36,
   "id": "7426be15",
   "metadata": {},
   "outputs": [],
   "source": [
    "%matplotlib inline\n",
    "import matplotlib.pyplot as plt"
   ]
  },
  {
   "cell_type": "code",
   "execution_count": 37,
   "id": "1a8d2dd9",
   "metadata": {},
   "outputs": [
    {
     "name": "stdout",
     "output_type": "stream",
     "text": [
      "Wall time: 0 ns\n"
     ]
    },
    {
     "data": {
      "image/png": "[encoded data removed]",
      "text/plain": [
       "<Figure size 432x288 with 1 Axes>"
      ]
     },
     "metadata": {
      "needs_background": "light"
     },
     "output_type": "display_data"
    }
   ],
   "source": [
    "#Dask\n",
    "%time\n",
    "ax = xgboost.plot_importance(bst, height=0.8, max_num_features=9)\n",
    "ax.grid(False, axis=\"y\")\n",
    "ax.set_title('Estimated feature importance')\n",
    "plt.show()"
   ]
  },
  {
   "cell_type": "code",
   "execution_count": 38,
   "id": "59b29b13",
   "metadata": {},
   "outputs": [
    {
     "name": "stdout",
     "output_type": "stream",
     "text": [
      "Wall time: 0 ns\n"
     ]
    },
    {
     "data": {
      "image/png": "[encoded data removed]",
      "text/plain": [
       "<Figure size 432x288 with 1 Axes>"
      ]
     },
     "metadata": {
      "needs_background": "light"
     },
     "output_type": "display_data"
    }
   ],
   "source": [
    "#Pandas\n",
    "%time\n",
    "bx = xgboost.plot_importance(reg_xgb, height=0.8, max_num_features=9)\n",
    "bx.grid(False, axis=\"y\")\n",
    "bx.set_title('Estimated feature importance')\n",
    "plt.show()"
   ]
  },
  {
   "cell_type": "markdown",
   "id": "469246cb",
   "metadata": {},
   "source": [
    "#### Result: Machine learning using Dask data frame is significantly faster than Pandas data frame because of parallel computing. Dask can be very useful when working with large datasets for machine learning as compared to Pandas dataframe which take significant amount of time. We can see the training times of both Dask and Pandas in this notebook.   "
   ]
  }
 ],
 "metadata": {
  "kernelspec": {
   "display_name": "Python 3 (ipykernel)",
   "language": "python",
   "name": "python3"
  },
  "language_info": {
   "codemirror_mode": {
    "name": "ipython",
    "version": 3
   },
   "file_extension": ".py",
   "mimetype": "text/x-python",
   "name": "python",
   "nbconvert_exporter": "python",
   "pygments_lexer": "ipython3",
   "version": "3.9.12"
  }
 },
 "nbformat": 4,
 "nbformat_minor": 5
}
